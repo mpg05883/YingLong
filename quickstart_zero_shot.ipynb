{
 "cells": [
  {
   "cell_type": "code",
   "execution_count": 1,
   "metadata": {
    "ExecutionIndicator": {
     "show": false
    },
    "execution": {
     "iopub.execute_input": "2025-05-18T03:10:00.399391Z",
     "iopub.status.busy": "2025-05-18T03:10:00.399145Z",
     "iopub.status.idle": "2025-05-18T03:10:00.404828Z",
     "shell.execute_reply": "2025-05-18T03:10:00.404064Z",
     "shell.execute_reply.started": "2025-05-18T03:10:00.399373Z"
    },
    "tags": []
   },
   "outputs": [],
   "source": [
    "import torch\n",
    "import pandas as pd\n",
    "import numpy as np\n",
    "import matplotlib.pyplot as plt\n",
    "from transformers import AutoModelForCausalLM\n",
    "\n"
   ]
  },
  {
   "cell_type": "code",
   "execution_count": 2,
   "metadata": {
    "ExecutionIndicator": {
     "show": false
    },
    "execution": {
     "iopub.execute_input": "2025-05-18T03:10:01.163302Z",
     "iopub.status.busy": "2025-05-18T03:10:01.163068Z",
     "iopub.status.idle": "2025-05-18T03:10:01.166038Z",
     "shell.execute_reply": "2025-05-18T03:10:01.165536Z",
     "shell.execute_reply.started": "2025-05-18T03:10:01.163286Z"
    },
    "tags": []
   },
   "outputs": [],
   "source": [
    "# load model and dataset\n",
    "model = AutoModelForCausalLM.from_pretrained('qcw2333/YingLong_6m', trust_remote_code=True,torch_dtype=torch.bfloat16).cuda()\n",
    "df = pd.read_csv(\"https://raw.githubusercontent.com/WenWeiTHU/TimeSeriesDatasets/refs/heads/main/ETT-small/ETTh2.csv\")\n"
   ]
  },
  {
   "cell_type": "code",
   "execution_count": 3,
   "metadata": {
    "ExecutionIndicator": {
     "show": false
    },
    "tags": []
   },
   "outputs": [],
   "source": [
    "# perpare input\n",
    "lookback_length = 1440    \n",
    "seqs = torch.tensor(df[\"OT\"][:lookback_length]).unsqueeze(0).bfloat16().cuda()"
   ]
  },
  {
   "cell_type": "code",
   "execution_count": 4,
   "metadata": {
    "ExecutionIndicator": {
     "show": false
    },
    "tags": []
   },
   "outputs": [],
   "source": [
    "# generate forecast \n"
   ]
  },
  {
   "cell_type": "code",
   "execution_count": 3,
   "metadata": {
    "ExecutionIndicator": {
     "show": false
    },
    "execution": {
     "iopub.execute_input": "2025-05-18T05:38:57.626445Z",
     "iopub.status.busy": "2025-05-18T05:38:57.626229Z",
     "iopub.status.idle": "2025-05-18T05:38:57.748112Z",
     "shell.execute_reply": "2025-05-18T05:38:57.747598Z",
     "shell.execute_reply.started": "2025-05-18T05:38:57.626431Z"
    },
    "tags": []
   },
   "outputs": [
    {
     "ename": "NameError",
     "evalue": "name 'plt' is not defined",
     "output_type": "error",
     "traceback": [
      "\u001b[31m---------------------------------------------------------------------------\u001b[39m",
      "\u001b[31mNameError\u001b[39m                                 Traceback (most recent call last)",
      "\u001b[36mCell\u001b[39m\u001b[36m \u001b[39m\u001b[32mIn[3]\u001b[39m\u001b[32m, line 1\u001b[39m\n\u001b[32m----> \u001b[39m\u001b[32m1\u001b[39m fig, axs = \u001b[43mplt\u001b[49m.subplots(\u001b[32m2\u001b[39m, \u001b[32m1\u001b[39m, sharex=\u001b[38;5;28;01mTrue\u001b[39;00m,figsize=(\u001b[32m12\u001b[39m, \u001b[32m6\u001b[39m))\n\u001b[32m      4\u001b[39m \u001b[38;5;66;03m# vanilla  forecasting\u001b[39;00m\n\u001b[32m      5\u001b[39m axs[\u001b[32m0\u001b[39m].plot(\u001b[38;5;28mrange\u001b[39m(lookback_length, lookback_length + prediction_length),df[\u001b[33m\"\u001b[39m\u001b[33mOT\u001b[39m\u001b[33m\"\u001b[39m][lookback_length:lookback_length + prediction_length], color=\u001b[33m\"\u001b[39m\u001b[33mlimegreen\u001b[39m\u001b[33m\"\u001b[39m, label=\u001b[33m\"\u001b[39m\u001b[33mGroundtruth\u001b[39m\u001b[33m\"\u001b[39m)\n",
      "\u001b[31mNameError\u001b[39m: name 'plt' is not defined"
     ]
    }
   ],
   "source": [
    "fig, axs = plt.subplots(2, 1, sharex=True,figsize=(12, 6))\n",
    "\n",
    "\n",
    "# vanilla  forecasting\n",
    "prediction_length = 96    \n",
    "output = model.generate(seqs, future_token=prediction_length)\n",
    "output = output.float().cpu().detach().numpy()\n",
    "\n",
    "axs[0].plot(range(lookback_length, lookback_length + prediction_length),df[\"OT\"][lookback_length:lookback_length + prediction_length], color=\"limegreen\", label=\"Groundtruth\")\n",
    "axs[0].plot(df[\"OT\"][:lookback_length], color=\"royalblue\", label=\"Lookback\")\n",
    "err=   np.mean((output[0,:,49] - df[\"OT\"][lookback_length:lookback_length + prediction_length])**2)\n",
    "err1=  np.mean((output[0,:,49] - df[\"OT\"][lookback_length:lookback_length + prediction_length]).abs())\n",
    "axs[0].plot(range(lookback_length, lookback_length + prediction_length), output[0,:,49], color=\"tomato\", label=f\"Vanilla\")\n",
    "axs[0].legend()\n",
    "axs[0].grid()\n",
    "axs[0].set_title(f'MSE: {err:.4f}, MAE: {err1:.4f}')\n"
   ]
  },
  {
   "cell_type": "code",
   "execution_count": null,
   "metadata": {},
   "outputs": [],
   "source": [
    "# Dcot version, # of future_token is larger than prediction_length\n",
    "output = model.generate(seqs, future_token=4096)\n",
    "output = output.float().cpu().detach().numpy()\n",
    "output = output[:,:prediction_length,:]\n",
    "\n",
    "axs[1].plot(range(lookback_length, lookback_length + prediction_length),df[\"OT\"][lookback_length:lookback_length + prediction_length], color=\"limegreen\", label=\"Groundtruth\")\n",
    "axs[1].plot(df[\"OT\"][:lookback_length], color=\"royalblue\", label=\"Lookback\")\n",
    "err=   np.mean((output[0,:,49] - df[\"OT\"][lookback_length:lookback_length + prediction_length])**2)\n",
    "err1=  np.mean((output[0,:,49] - df[\"OT\"][lookback_length:lookback_length + prediction_length]).abs())\n",
    "axs[1].plot(range(lookback_length, lookback_length + prediction_length), output[0,:,49], color=\"cyan\", label=f\"Dcot\")\n",
    "\n",
    "axs[1].legend()\n",
    "axs[1].grid()\n",
    "axs[1].set_title(f'MSE: {err:.4f}, MAE: {err1:.4f}')\n",
    "plt.show()\n"
   ]
  }
 ],
 "metadata": {
  "kernelspec": {
   "display_name": "hf_final",
   "language": "python",
   "name": "hf_final"
  },
  "language_info": {
   "codemirror_mode": {
    "name": "ipython",
    "version": 3
   },
   "file_extension": ".py",
   "mimetype": "text/x-python",
   "name": "python",
   "nbconvert_exporter": "python",
   "pygments_lexer": "ipython3",
   "version": "3.11.11"
  }
 },
 "nbformat": 4,
 "nbformat_minor": 4
}
